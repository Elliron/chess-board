{
  "cells": [
    {
      "cell_type": "code",
      "execution_count": 1,
      "metadata": {
        "id": "oQ5ct-AUtbWi"
      },
      "outputs": [],
      "source": [
        "import numpy as np\n",
        "import matplotlib.pyplot as plt\n",
        "\n"
      ]
    },
    {
      "cell_type": "code",
      "execution_count": 2,
      "metadata": {
        "id": "1LDYcgILGy9D"
      },
      "outputs": [],
      "source": [
        "class Board:\n",
        "  def __init__(self):\n",
        "    self.grid = np.zeros((8,8,3))\n",
        "    self.grid[1::2, ::2] = 1\n",
        "    self.grid[::2, 1::2] = 1\n",
        "    self.red_queen = None\n",
        "    self.blue_queen = None\n",
        "\n",
        "  def add_blue(self, row, column):\n",
        "    self.grid[row, column] = (0,0,1)\n",
        "    self.blue_queen = (row, column)\n",
        "\n",
        "  def add_red(self, row, column):\n",
        "    self.grid[row, column] = (1,0,0)\n",
        "    self.red_queen = (row, column)\n",
        "\n",
        "  def is_under_attack(self):\n",
        "    if self.red_queen[0] == self.blue_queen[0]:\n",
        "      return True\n",
        "    if self.red_queen[1] == self.blue_queen[1]:\n",
        "      return True\n",
        "    if abs(self.red_queen[0] - self.blue_queen[0]) == abs(self.red_queen[1] - self.blue_queen[1]):\n",
        "      return True\n",
        "    else:\n",
        "      return False\n",
        "\n",
        "  def render(self):\n",
        "    plt.imshow(self.grid)\n"
      ]
    },
    {
      "cell_type": "code",
      "execution_count": 3,
      "metadata": {
        "colab": {
          "base_uri": "https://localhost:8080/",
          "height": 282
        },
        "id": "_CUEEu-WbaJW",
        "outputId": "a4452942-fbc8-4dff-b2bc-f67f803907f6"
      },
      "outputs": [
        {
          "name": "stdout",
          "output_type": "stream",
          "text": [
            "***attack***\n"
          ]
        },
        {
          "data": {
            "image/png": "[encoded data removed]",
            "text/plain": [
              "<Figure size 432x288 with 1 Axes>"
            ]
          },
          "metadata": {
            "needs_background": "light",
            "tags": []
          },
          "output_type": "display_data"
        }
      ],
      "source": [
        "board = Board()\n",
        "board.add_blue(0,2)\n",
        "board.add_red(0,7)\n",
        "board.render()\n",
        "assert board.is_under_attack()\n",
        "print(\"***row attack***\")\n",
        "\n"
      ]
    },
    {
      "cell_type": "code",
      "execution_count": 8,
      "metadata": {
        "colab": {
          "base_uri": "https://localhost:8080/",
          "height": 282
        },
        "id": "-kjF4kf6s1bC",
        "outputId": "a1b622b4-7a0d-4bae-b78f-6c6ca30d84f7"
      },
      "outputs": [
        {
          "name": "stdout",
          "output_type": "stream",
          "text": [
            "***not attack***\n"
          ]
        },
        {
          "data": {
            "image/png": "[encoded data removed]",
            "text/plain": [
              "<Figure size 432x288 with 1 Axes>"
            ]
          },
          "metadata": {
            "needs_background": "light",
            "tags": []
          },
          "output_type": "display_data"
        }
      ],
      "source": [
        "board = Board()\n",
        "board.add_blue(2,2)\n",
        "board.add_red(0,7)\n",
        "board.render()\n",
        "assert not board.is_under_attack()\n",
        "print(\"***not attack***\")"
      ]
    },
    {
      "cell_type": "code",
      "execution_count": 10,
      "metadata": {
        "colab": {
          "base_uri": "https://localhost:8080/",
          "height": 282
        },
        "id": "skngbd5MxjTZ",
        "outputId": "75df4a72-e7c6-4b54-cb36-767ef5346aeb"
      },
      "outputs": [
        {
          "name": "stdout",
          "output_type": "stream",
          "text": [
            "***column attack***\n"
          ]
        },
        {
          "data": {
            "image/png": "[encoded data removed]",
            "text/plain": [
              "<Figure size 432x288 with 1 Axes>"
            ]
          },
          "metadata": {
            "needs_background": "light",
            "tags": []
          },
          "output_type": "display_data"
        }
      ],
      "source": [
        "board = Board()\n",
        "board.add_blue(0,7)\n",
        "board.add_red(0,7)\n",
        "board.render()\n",
        "assert board.is_under_attack()\n",
        "print(\"***column attack***\")"
      ]
    },
    {
      "cell_type": "code",
      "execution_count": 14,
      "metadata": {
        "colab": {
          "base_uri": "https://localhost:8080/",
          "height": 282
        },
        "id": "lYHMLdcKxjdO",
        "outputId": "b873b55a-d753-4fe3-f1bd-cced0bdfc746"
      },
      "outputs": [
        {
          "name": "stdout",
          "output_type": "stream",
          "text": [
            "***diagnol attack***\n"
          ]
        },
        {
          "data": {
            "image/png": "[encoded data removed]",
            "text/plain": [
              "<Figure size 432x288 with 1 Axes>"
            ]
          },
          "metadata": {
            "needs_background": "light",
            "tags": []
          },
          "output_type": "display_data"
        }
      ],
      "source": [
        "board = Board()\n",
        "board.add_blue(4,3)\n",
        "board.add_red(0,7)\n",
        "board.render()\n",
        "assert board.is_under_attack()\n",
        "print(\"***diagnol attack***\")"
      ]
    }
  ],
  "metadata": {
    "colab": {
      "name": "chess-board.ipynb",
      "provenance": []
    },
    "kernelspec": {
      "display_name": "Python 3",
      "name": "python3"
    },
    "language_info": {
      "name": "python"
    }
  },
  "nbformat": 4,
  "nbformat_minor": 0
}